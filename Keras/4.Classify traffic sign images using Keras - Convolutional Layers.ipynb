{
 "cells": [
  {
   "cell_type": "code",
   "execution_count": 2,
   "metadata": {},
   "outputs": [],
   "source": [
    "# Load pickled data\n",
    "import pickle\n",
    "import numpy as np\n",
    "import tensorflow as tf"
   ]
  },
  {
   "cell_type": "code",
   "execution_count": 3,
   "metadata": {
    "collapsed": true
   },
   "outputs": [],
   "source": [
    "with open('small_train_traffic.p', mode='rb') as f:\n",
    "    data = pickle.load(f)"
   ]
  },
  {
   "cell_type": "code",
   "execution_count": 4,
   "metadata": {
    "collapsed": true
   },
   "outputs": [],
   "source": [
    "X_train, y_train= data['features'], data['labels']"
   ]
  },
  {
   "cell_type": "code",
   "execution_count": 5,
   "metadata": {},
   "outputs": [
    {
     "data": {
      "text/plain": [
       "(100, 32, 32, 3)"
      ]
     },
     "execution_count": 5,
     "metadata": {},
     "output_type": "execute_result"
    }
   ],
   "source": [
    "X_train.shape"
   ]
  },
  {
   "cell_type": "code",
   "execution_count": 17,
   "metadata": {},
   "outputs": [],
   "source": [
    "# Initial Setup for Keras\n",
    "from keras.models import Sequential\n",
    "from keras.layers.core import Dense, Activation, Flatten, Dropout\n",
    "from keras.layers.convolutional import Convolution2D, MaxPooling2D"
   ]
  },
  {
   "cell_type": "code",
   "execution_count": 18,
   "metadata": {},
   "outputs": [
    {
     "name": "stderr",
     "output_type": "stream",
     "text": [
      "/home/gapapp/.conda/envs/gapenv/lib/python3.6/site-packages/ipykernel_launcher.py:4: UserWarning: Update your `Conv2D` call to the Keras 2 API: `Conv2D(32, (3, 3), input_shape=(32, 32, 3...)`\n",
      "  after removing the cwd from sys.path.\n"
     ]
    }
   ],
   "source": [
    "# Build Convolutional Neural Network in Keras Here\n",
    "model = Sequential()\n",
    "\n",
    "model.add(Convolution2D(32, 3, 3, input_shape=(32,32,3)))\n",
    "model.add(Activation('relu'))\n",
    "\n",
    "model.add(MaxPooling2D(pool_size=(2, 2)))\n",
    "\n",
    "model.add(Dropout(0.25))\n",
    "\n",
    "model.add(Flatten())\n",
    "\n",
    "model.add(Dense(5, activation='softmax'))"
   ]
  },
  {
   "cell_type": "code",
   "execution_count": 8,
   "metadata": {
    "collapsed": true
   },
   "outputs": [],
   "source": [
    "# Preprocess data\n",
    "X_normalized = np.array(X_train / 255.0 - 0.5 )"
   ]
  },
  {
   "cell_type": "code",
   "execution_count": 9,
   "metadata": {
    "collapsed": true
   },
   "outputs": [],
   "source": [
    "from sklearn.preprocessing import LabelBinarizer\n",
    "label_binarizer = LabelBinarizer()\n",
    "y_one_hot = label_binarizer.fit_transform(y_train)"
   ]
  },
  {
   "cell_type": "code",
   "execution_count": 19,
   "metadata": {},
   "outputs": [
    {
     "name": "stderr",
     "output_type": "stream",
     "text": [
      "/home/gapapp/.conda/envs/gapenv/lib/python3.6/site-packages/keras/models.py:848: UserWarning: The `nb_epoch` argument in `fit` has been renamed `epochs`.\n",
      "  warnings.warn('The `nb_epoch` argument in `fit` '\n"
     ]
    },
    {
     "name": "stdout",
     "output_type": "stream",
     "text": [
      "Train on 80 samples, validate on 20 samples\n",
      "Epoch 1/20\n",
      "80/80 [==============================] - 0s - loss: 1.4806 - acc: 0.2750 - val_loss: 1.0413 - val_acc: 0.4500\n",
      "Epoch 2/20\n",
      "80/80 [==============================] - 0s - loss: 1.0533 - acc: 0.4125 - val_loss: 0.8417 - val_acc: 0.5500\n",
      "Epoch 3/20\n",
      "80/80 [==============================] - 0s - loss: 0.9035 - acc: 0.4750 - val_loss: 0.7242 - val_acc: 0.7000\n",
      "Epoch 4/20\n",
      "80/80 [==============================] - 0s - loss: 0.7709 - acc: 0.6250 - val_loss: 0.6301 - val_acc: 0.8000\n",
      "Epoch 5/20\n",
      "80/80 [==============================] - 0s - loss: 0.6916 - acc: 0.8125 - val_loss: 0.5630 - val_acc: 0.8500\n",
      "Epoch 6/20\n",
      "80/80 [==============================] - 0s - loss: 0.6308 - acc: 0.8000 - val_loss: 0.4821 - val_acc: 1.0000\n",
      "Epoch 7/20\n",
      "80/80 [==============================] - 0s - loss: 0.5633 - acc: 0.8375 - val_loss: 0.4156 - val_acc: 0.8500\n",
      "Epoch 8/20\n",
      "80/80 [==============================] - 0s - loss: 0.4906 - acc: 0.8375 - val_loss: 0.3547 - val_acc: 0.8500\n",
      "Epoch 9/20\n",
      "80/80 [==============================] - 0s - loss: 0.4273 - acc: 0.9125 - val_loss: 0.3111 - val_acc: 1.0000\n",
      "Epoch 10/20\n",
      "80/80 [==============================] - 0s - loss: 0.4104 - acc: 0.9125 - val_loss: 0.2775 - val_acc: 1.0000\n",
      "Epoch 11/20\n",
      "80/80 [==============================] - 0s - loss: 0.3605 - acc: 0.9625 - val_loss: 0.2465 - val_acc: 1.0000\n",
      "Epoch 12/20\n",
      "80/80 [==============================] - 0s - loss: 0.3410 - acc: 0.8875 - val_loss: 0.2292 - val_acc: 0.9500\n",
      "Epoch 13/20\n",
      "80/80 [==============================] - 0s - loss: 0.3367 - acc: 0.8500 - val_loss: 0.2093 - val_acc: 0.8500\n",
      "Epoch 14/20\n",
      "80/80 [==============================] - 0s - loss: 0.3018 - acc: 0.8000 - val_loss: 0.2099 - val_acc: 0.8500\n",
      "Epoch 15/20\n",
      "80/80 [==============================] - 0s - loss: 0.2735 - acc: 0.8750 - val_loss: 0.1791 - val_acc: 1.0000\n",
      "Epoch 16/20\n",
      "80/80 [==============================] - 0s - loss: 0.2506 - acc: 0.9250 - val_loss: 0.1606 - val_acc: 1.0000\n",
      "Epoch 17/20\n",
      "80/80 [==============================] - 0s - loss: 0.2248 - acc: 0.9750 - val_loss: 0.1620 - val_acc: 0.9500\n",
      "Epoch 18/20\n",
      "80/80 [==============================] - 0s - loss: 0.2395 - acc: 0.8250 - val_loss: 0.1448 - val_acc: 1.0000\n",
      "Epoch 19/20\n",
      "80/80 [==============================] - 0s - loss: 0.2060 - acc: 0.9625 - val_loss: 0.1503 - val_acc: 0.9000\n",
      "Epoch 20/20\n",
      "80/80 [==============================] - 0s - loss: 0.2115 - acc: 0.9125 - val_loss: 0.1213 - val_acc: 1.0000\n"
     ]
    }
   ],
   "source": [
    "model.compile('adam', 'categorical_crossentropy', ['accuracy'])\n",
    "history = model.fit(X_normalized, y_one_hot, nb_epoch=20, validation_split=0.2)"
   ]
  },
  {
   "cell_type": "code",
   "execution_count": 20,
   "metadata": {},
   "outputs": [
    {
     "name": "stdout",
     "output_type": "stream",
     "text": [
      "Testing\n",
      "loss: 0.21442583203315735\n",
      "acc: 1.0\n"
     ]
    }
   ],
   "source": [
    "with open('small_test_traffic.p', 'rb') as f:\n",
    "    data_test = pickle.load(f)\n",
    "\n",
    "X_test = data_test['features']\n",
    "y_test = data_test['labels']\n",
    "\n",
    "# preprocess data\n",
    "X_normalized_test = np.array(X_test / 255.0 - 0.5 )\n",
    "y_one_hot_test = label_binarizer.fit_transform(y_test)\n",
    "\n",
    "print(\"Testing\")\n",
    "\n",
    "# TODO: Evaluate the test data in Keras Here\n",
    "metrics = model.evaluate(X_normalized_test, y_one_hot_test, verbose=0)\n",
    "# TODO: UNCOMMENT CODE\n",
    "for metric_i in range(len(model.metrics_names)):\n",
    "    metric_name = model.metrics_names[metric_i]\n",
    "    metric_value = metrics[metric_i]\n",
    "    print('{}: {}'.format(metric_name, metric_value))"
   ]
  },
  {
   "cell_type": "code",
   "execution_count": null,
   "metadata": {
    "collapsed": true
   },
   "outputs": [],
   "source": []
  }
 ],
 "metadata": {
  "kernelspec": {
   "display_name": "Python 3",
   "language": "python",
   "name": "python3"
  },
  "language_info": {
   "codemirror_mode": {
    "name": "ipython",
    "version": 3
   },
   "file_extension": ".py",
   "mimetype": "text/x-python",
   "name": "python",
   "nbconvert_exporter": "python",
   "pygments_lexer": "ipython3",
   "version": "3.6.2"
  }
 },
 "nbformat": 4,
 "nbformat_minor": 2
}
