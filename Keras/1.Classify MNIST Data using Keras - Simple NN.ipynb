{
 "cells": [
  {
   "cell_type": "markdown",
   "metadata": {},
   "source": [
    "Trains a simple deep NN on the MNIST dataset."
   ]
  },
  {
   "cell_type": "code",
   "execution_count": 1,
   "metadata": {},
   "outputs": [
    {
     "name": "stderr",
     "output_type": "stream",
     "text": [
      "Using TensorFlow backend.\n"
     ]
    }
   ],
   "source": [
    "from __future__ import print_function\n",
    "\n",
    "import keras\n",
    "from keras.datasets import mnist\n",
    "from keras.models import Sequential\n",
    "from keras.layers import Dense, Dropout\n",
    "from keras.optimizers import RMSprop"
   ]
  },
  {
   "cell_type": "code",
   "execution_count": 2,
   "metadata": {
    "collapsed": true
   },
   "outputs": [],
   "source": [
    "# Hyperparameters\n",
    "batch_size = 128\n",
    "num_classes = 10\n",
    "epochs = 20"
   ]
  },
  {
   "cell_type": "code",
   "execution_count": 3,
   "metadata": {
    "collapsed": true
   },
   "outputs": [],
   "source": [
    "# the data, split between train and test sets\n",
    "(x_train, y_train), (x_test, y_test) = mnist.load_data()"
   ]
  },
  {
   "cell_type": "code",
   "execution_count": 4,
   "metadata": {
    "collapsed": true
   },
   "outputs": [],
   "source": [
    "x_train = x_train.reshape(60000, 784)\n",
    "x_test = x_test.reshape(10000, 784)\n",
    "x_train = x_train.astype('float32')\n",
    "x_test = x_test.astype('float32')"
   ]
  },
  {
   "cell_type": "code",
   "execution_count": 10,
   "metadata": {},
   "outputs": [],
   "source": [
    "x_train /= 255\n",
    "x_test /= 255"
   ]
  },
  {
   "cell_type": "code",
   "execution_count": 11,
   "metadata": {},
   "outputs": [
    {
     "name": "stdout",
     "output_type": "stream",
     "text": [
      "60000 train samples\n",
      "10000 test samples\n"
     ]
    }
   ],
   "source": [
    "print(x_train.shape[0], 'train samples')\n",
    "print(x_test.shape[0], 'test samples')"
   ]
  },
  {
   "cell_type": "code",
   "execution_count": 13,
   "metadata": {},
   "outputs": [],
   "source": [
    "# convert class vectors to binary class matrices\n",
    "y_train = keras.utils.to_categorical(y_train, num_classes)\n",
    "y_test = keras.utils.to_categorical(y_test, num_classes)"
   ]
  },
  {
   "cell_type": "code",
   "execution_count": 14,
   "metadata": {
    "collapsed": true
   },
   "outputs": [],
   "source": [
    "#create Sequential model and add layers\n",
    "model = Sequential()\n",
    "\n",
    "model.add(Dense(512, activation='relu', input_shape=(784,)))\n",
    "model.add(Dropout(0.2))\n",
    "model.add(Dense(512, activation='relu'))\n",
    "model.add(Dropout(0.2))\n",
    "model.add(Dense(num_classes, activation='softmax'))"
   ]
  },
  {
   "cell_type": "code",
   "execution_count": 15,
   "metadata": {},
   "outputs": [
    {
     "name": "stdout",
     "output_type": "stream",
     "text": [
      "_________________________________________________________________\n",
      "Layer (type)                 Output Shape              Param #   \n",
      "=================================================================\n",
      "dense_1 (Dense)              (None, 512)               401920    \n",
      "_________________________________________________________________\n",
      "dropout_1 (Dropout)          (None, 512)               0         \n",
      "_________________________________________________________________\n",
      "dense_2 (Dense)              (None, 512)               262656    \n",
      "_________________________________________________________________\n",
      "dropout_2 (Dropout)          (None, 512)               0         \n",
      "_________________________________________________________________\n",
      "dense_3 (Dense)              (None, 10)                5130      \n",
      "=================================================================\n",
      "Total params: 669,706\n",
      "Trainable params: 669,706\n",
      "Non-trainable params: 0\n",
      "_________________________________________________________________\n"
     ]
    }
   ],
   "source": [
    "model.summary()"
   ]
  },
  {
   "cell_type": "code",
   "execution_count": 16,
   "metadata": {
    "collapsed": true
   },
   "outputs": [],
   "source": [
    "model.compile(loss='categorical_crossentropy',\n",
    "              optimizer=RMSprop(),\n",
    "              metrics=['accuracy'])"
   ]
  },
  {
   "cell_type": "code",
   "execution_count": 17,
   "metadata": {},
   "outputs": [
    {
     "name": "stdout",
     "output_type": "stream",
     "text": [
      "Train on 60000 samples, validate on 10000 samples\n",
      "Epoch 1/20\n",
      "60000/60000 [==============================] - 6s - loss: 0.2506 - acc: 0.9232 - val_loss: 0.0977 - val_acc: 0.9701\n",
      "Epoch 2/20\n",
      "60000/60000 [==============================] - 6s - loss: 0.1026 - acc: 0.9686 - val_loss: 0.0830 - val_acc: 0.9754\n",
      "Epoch 3/20\n",
      "60000/60000 [==============================] - 6s - loss: 0.0755 - acc: 0.9768 - val_loss: 0.0928 - val_acc: 0.9727\n",
      "Epoch 4/20\n",
      "60000/60000 [==============================] - 6s - loss: 0.0597 - acc: 0.9823 - val_loss: 0.0840 - val_acc: 0.9773\n",
      "Epoch 5/20\n",
      "60000/60000 [==============================] - 6s - loss: 0.0518 - acc: 0.9847 - val_loss: 0.0739 - val_acc: 0.9808\n",
      "Epoch 6/20\n",
      "60000/60000 [==============================] - 6s - loss: 0.0443 - acc: 0.9867 - val_loss: 0.0727 - val_acc: 0.9823\n",
      "Epoch 7/20\n",
      "60000/60000 [==============================] - 6s - loss: 0.0382 - acc: 0.9886 - val_loss: 0.0827 - val_acc: 0.9801\n",
      "Epoch 8/20\n",
      "60000/60000 [==============================] - 6s - loss: 0.0331 - acc: 0.9902 - val_loss: 0.0798 - val_acc: 0.9822\n",
      "Epoch 9/20\n",
      "60000/60000 [==============================] - 6s - loss: 0.0328 - acc: 0.9908 - val_loss: 0.0896 - val_acc: 0.9823\n",
      "Epoch 10/20\n",
      "60000/60000 [==============================] - 6s - loss: 0.0295 - acc: 0.9917 - val_loss: 0.0969 - val_acc: 0.9796\n",
      "Epoch 11/20\n",
      "60000/60000 [==============================] - 6s - loss: 0.0267 - acc: 0.9923 - val_loss: 0.0885 - val_acc: 0.9822\n",
      "Epoch 12/20\n",
      "60000/60000 [==============================] - 6s - loss: 0.0263 - acc: 0.9929 - val_loss: 0.0994 - val_acc: 0.9829\n",
      "Epoch 13/20\n",
      "60000/60000 [==============================] - 6s - loss: 0.0255 - acc: 0.9928 - val_loss: 0.1044 - val_acc: 0.9827\n",
      "Epoch 14/20\n",
      "60000/60000 [==============================] - 6s - loss: 0.0233 - acc: 0.9931 - val_loss: 0.1059 - val_acc: 0.9821\n",
      "Epoch 15/20\n",
      "60000/60000 [==============================] - 6s - loss: 0.0218 - acc: 0.9941 - val_loss: 0.1052 - val_acc: 0.9833\n",
      "Epoch 16/20\n",
      "60000/60000 [==============================] - 6s - loss: 0.0218 - acc: 0.9944 - val_loss: 0.1199 - val_acc: 0.9808\n",
      "Epoch 17/20\n",
      "60000/60000 [==============================] - 6s - loss: 0.0212 - acc: 0.9941 - val_loss: 0.1106 - val_acc: 0.9821\n",
      "Epoch 18/20\n",
      "60000/60000 [==============================] - 6s - loss: 0.0201 - acc: 0.9948 - val_loss: 0.1150 - val_acc: 0.9819\n",
      "Epoch 19/20\n",
      "60000/60000 [==============================] - 6s - loss: 0.0205 - acc: 0.9946 - val_loss: 0.1197 - val_acc: 0.9815\n",
      "Epoch 20/20\n",
      "60000/60000 [==============================] - 6s - loss: 0.0190 - acc: 0.9952 - val_loss: 0.1236 - val_acc: 0.9815\n"
     ]
    }
   ],
   "source": [
    "history = model.fit(x_train, y_train,\n",
    "                    batch_size=batch_size,\n",
    "                    epochs=epochs,\n",
    "                    verbose=1,\n",
    "                    validation_data=(x_test, y_test))"
   ]
  },
  {
   "cell_type": "code",
   "execution_count": 18,
   "metadata": {
    "collapsed": true
   },
   "outputs": [],
   "source": [
    "score = model.evaluate(x_test, y_test, verbose=0)"
   ]
  },
  {
   "cell_type": "code",
   "execution_count": 20,
   "metadata": {},
   "outputs": [
    {
     "name": "stdout",
     "output_type": "stream",
     "text": [
      "Test loss: 0.123624692261\n",
      "Test accuracy: 0.9815\n"
     ]
    }
   ],
   "source": [
    "print('Test loss:', score[0])\n",
    "print('Test accuracy:', score[1])"
   ]
  },
  {
   "cell_type": "code",
   "execution_count": null,
   "metadata": {
    "collapsed": true
   },
   "outputs": [],
   "source": []
  }
 ],
 "metadata": {
  "kernelspec": {
   "display_name": "Python 3",
   "language": "python",
   "name": "python3"
  },
  "language_info": {
   "codemirror_mode": {
    "name": "ipython",
    "version": 3
   },
   "file_extension": ".py",
   "mimetype": "text/x-python",
   "name": "python",
   "nbconvert_exporter": "python",
   "pygments_lexer": "ipython3",
   "version": "3.6.2"
  }
 },
 "nbformat": 4,
 "nbformat_minor": 2
}
